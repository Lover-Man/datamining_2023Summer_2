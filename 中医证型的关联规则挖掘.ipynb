{
 "cells": [
  {
   "cell_type": "code",
   "execution_count": 49,
   "metadata": {
    "collapsed": true,
    "ExecuteTime": {
     "end_time": "2023-07-08T09:17:02.631593Z",
     "start_time": "2023-07-08T09:17:02.507763Z"
    }
   },
   "outputs": [],
   "source": [
    "import pandas as pd\n",
    "\n",
    "# 读取数据\n",
    "data = pd.read_excel('/Users/zhuyanze/Desktop/data.xls')\n",
    "\n",
    "# 选择需要的属性列\n",
    "selected_columns = [\n",
    "    '肝气郁结证型系数',\n",
    "    '热毒蕴结证型系数',\n",
    "    '冲任失调证型系数',\n",
    "    '气血两虚证型系数',\n",
    "    '脾胃虚弱证型系数',\n",
    "    '肝肾阴虚证型系数',\n",
    "    'TNM分期'\n",
    "]\n",
    "\n",
    "# 保留所需的属性列\n",
    "reduced_data = data[selected_columns]\n",
    "\n",
    "# 将处理后的数据保存到新的Excel文件中\n",
    "reduced_data.to_excel('reduced_data.xlsx', index=False)"
   ]
  },
  {
   "cell_type": "code",
   "execution_count": 50,
   "outputs": [
    {
     "name": "stdout",
     "output_type": "stream",
     "text": [
      "肝气郁结证型系数 (A):\n",
      "A1: [0.026, 0.1455)\n",
      "A2: [0.1455, 0.265)\n",
      "A3: [0.265, 0.3845)\n",
      "A4: [0.3845, 0.504)\n",
      "\n",
      "热毒蕴结证型系数 (B):\n",
      "B1: [0.0, 0.195)\n",
      "B2: [0.195, 0.39)\n",
      "B3: [0.39, 0.585)\n",
      "B4: [0.585, 0.78)\n",
      "\n",
      "冲任失调证型系数 (C):\n",
      "C1: [0.067, 0.20274999999999999)\n",
      "C2: [0.20274999999999999, 0.33849999999999997)\n",
      "C3: [0.33849999999999997, 0.47424999999999995)\n",
      "C4: [0.47424999999999995, 0.61)\n",
      "\n",
      "气血两虚证型系数 (D):\n",
      "D1: [0.059, 0.18225000000000002)\n",
      "D2: [0.18225000000000002, 0.3055)\n",
      "D3: [0.3055, 0.42875)\n",
      "D4: [0.42875, 0.552)\n",
      "\n",
      "脾胃虚弱证型系数 (E):\n",
      "E1: [0.003, 0.13375)\n",
      "E2: [0.13375, 0.2645)\n",
      "E3: [0.2645, 0.39525)\n",
      "E4: [0.39525, 0.526)\n",
      "\n",
      "肝肾阴虚证型系数 (F):\n",
      "F1: [0.016, 0.16375)\n",
      "F2: [0.16375, 0.3115)\n",
      "F3: [0.3115, 0.45925)\n",
      "F4: [0.45925, 0.607)\n",
      "\n"
     ]
    }
   ],
   "source": [
    "import pandas as pd\n",
    "from sklearn.preprocessing import KBinsDiscretizer\n",
    "\n",
    "# 读取处理后的数据\n",
    "data = pd.read_excel('reduced_data.xlsx')\n",
    "\n",
    "# 为每个属性分配一个字母标签\n",
    "column_labels = ['A', 'B', 'C', 'D', 'E', 'F']\n",
    "\n",
    "# 在循环中分别应用KBinsDiscretizer\n",
    "for idx, column in enumerate(data.columns[:-1]):  # 不包括'TNM分期'列\n",
    "    # 初始化KBinsDiscretizer\n",
    "    discretizer = KBinsDiscretizer(n_bins=4, encode='ordinal', strategy='uniform')\n",
    "\n",
    "    # 使用当前属性拟合并转换离散化器\n",
    "    discretized_column = discretizer.fit_transform(data[[column]])\n",
    "\n",
    "    # 获取bin边缘值\n",
    "    bin_edges = discretizer.bin_edges_[0]\n",
    "\n",
    "    # 将原始属性列替换为离散化后的类别标签\n",
    "    bin_labels = [f'{column_labels[idx]}{i + 1}' for i in range(discretizer.n_bins)]\n",
    "    data[column] = pd.cut(data[column], bins=len(bin_labels), labels=bin_labels)\n",
    "\n",
    "    # 输出分箱结果及其对应的系数属性和数据区间\n",
    "    print(f'{column} ({column_labels[idx]}):')\n",
    "    for i in range(discretizer.n_bins):\n",
    "        lower_bound = bin_edges[i]\n",
    "        upper_bound = bin_edges[i + 1]\n",
    "        print(f'{bin_labels[i]}: [{lower_bound}, {upper_bound})')\n",
    "    print()\n",
    "\n",
    "# 将分箱离散化后的数据保存到新的Excel文件中\n",
    "data.to_excel('discretized_data.xlsx', index=False)"
   ],
   "metadata": {
    "collapsed": false,
    "ExecuteTime": {
     "end_time": "2023-07-08T09:17:05.593637Z",
     "start_time": "2023-07-08T09:17:05.419637Z"
    }
   }
  },
  {
   "cell_type": "code",
   "execution_count": 51,
   "outputs": [
    {
     "name": "stdout",
     "output_type": "stream",
     "text": [
      "     antecedents consequents  antecedent support  consequent support  \\\n",
      "3       (F3, A2)        (H4)            0.219355            0.446237   \n",
      "8       (F3, B1)        (H4)            0.144086            0.446237   \n",
      "9       (F3, C2)        (H4)            0.184946            0.446237   \n",
      "11      (F3, D2)        (H4)            0.204301            0.446237   \n",
      "12  (F3, D2, A2)        (H4)            0.136559            0.446237   \n",
      "\n",
      "     support  confidence      lift  leverage  conviction  zhangs_metric  \n",
      "3   0.167742    0.764706  1.713678  0.069858    2.353495       0.533482  \n",
      "8   0.117204    0.813433  1.822874  0.052908    2.968172       0.527408  \n",
      "9   0.145161    0.784884  1.758896  0.062632    2.574252       0.529366  \n",
      "11  0.160215    0.784211  1.757387  0.069048    2.566221       0.541629  \n",
      "12  0.103226    0.755906  1.693957  0.042288    2.268644       0.474458  \n"
     ]
    }
   ],
   "source": [
    "import pandas as pd\n",
    "from mlxtend.preprocessing import TransactionEncoder\n",
    "from mlxtend.frequent_patterns import apriori, association_rules\n",
    "\n",
    "# 从离散化后的数据文件中读取数据\n",
    "data = pd.read_excel('discretized_data.xlsx')\n",
    "\n",
    "# 转换数据格式\n",
    "transactions = data.values.tolist()\n",
    "\n",
    "# 创建布尔数据集\n",
    "te = TransactionEncoder()\n",
    "te_ary = te.fit(transactions).transform(transactions)\n",
    "data_bool = pd.DataFrame(te_ary, columns=te.columns_)\n",
    "\n",
    "# 计算频繁项集\n",
    "min_support = 0.10  # 设置最小支持度为10%\n",
    "frequent_itemsets = apriori(data_bool, min_support=min_support, use_colnames=True)\n",
    "\n",
    "# 计算关联规则\n",
    "min_confidence = 0.75  # 设置最小置信度为75%\n",
    "rules = association_rules(frequent_itemsets, metric='confidence', min_threshold=min_confidence)\n",
    "\n",
    "# 过滤规则，仅保留涉及TNM分期属性的关联规则\n",
    "filtered_rules = rules[rules['consequents'].apply(lambda x: any([item.startswith('H') for item in x]))]\n",
    "\n",
    "# 输出关联规则到Excel文件\n",
    "filtered_rules.to_excel('association_rules_tnm.xlsx', index=False)\n",
    "\n",
    "# 打印关联规则\n",
    "print(filtered_rules)"
   ],
   "metadata": {
    "collapsed": false,
    "ExecuteTime": {
     "end_time": "2023-07-08T09:17:08.827055Z",
     "start_time": "2023-07-08T09:17:08.697949Z"
    }
   }
  },
  {
   "cell_type": "code",
   "execution_count": null,
   "outputs": [],
   "source": [],
   "metadata": {
    "collapsed": false
   }
  }
 ],
 "metadata": {
  "kernelspec": {
   "display_name": "Python 3",
   "language": "python",
   "name": "python3"
  },
  "language_info": {
   "codemirror_mode": {
    "name": "ipython",
    "version": 2
   },
   "file_extension": ".py",
   "mimetype": "text/x-python",
   "name": "python",
   "nbconvert_exporter": "python",
   "pygments_lexer": "ipython2",
   "version": "2.7.6"
  }
 },
 "nbformat": 4,
 "nbformat_minor": 0
}
